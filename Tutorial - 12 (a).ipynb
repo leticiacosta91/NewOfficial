{
 "cells": [
  {
   "cell_type": "markdown",
   "metadata": {},
   "source": [
    "# Tutorial 12"
   ]
  },
  {
   "cell_type": "code",
   "execution_count": 1,
   "metadata": {},
   "outputs": [
    {
     "name": "stdout",
     "output_type": "stream",
     "text": [
      "24/05/04 00:30:11 WARN SparkSession: Using an existing Spark session; only runtime SQL configurations will take effect.\n"
     ]
    }
   ],
   "source": [
    "from pyspark.sql import SparkSession\n",
    "from pyspark.sql import functions as f\n",
    "\n",
    "spark = SparkSession.builder.appName(\"Chapter4-4\").getOrCreate()"
   ]
  },
  {
   "cell_type": "code",
   "execution_count": 5,
   "metadata": {},
   "outputs": [],
   "source": [
    "ratings = (\n",
    "    spark.read.csv(\n",
    "        path=\"file:///home/hduser/Downloads/ratings.csv\",\n",
    "        sep=\",\",\n",
    "        header=True,\n",
    "        quote='\"',\n",
    "        schema=\"userId INT, movieId INT, rating DOUBLE, timestamp INT\",\n",
    "    )\n",
    "    # .withColumn(\"timestamp\", f.to_timestamp(f.from_unixtime(\"timestamp\")))\n",
    "    .select(\"userId\", \"movieId\", \"rating\")\n",
    "    .cache()\n",
    ")"
   ]
  },
  {
   "cell_type": "markdown",
   "metadata": {},
   "source": [
    "The ALS class has this signature:\n",
    "\n",
    "```python\n",
    "class pyspark.ml.recommendation.ALS(\n",
    "    rank=10,\n",
    "    maxIter=10,\n",
    "    regParam=0.1,\n",
    "    numUserBlocks=10,\n",
    "    numItemBlocks=10,\n",
    "    implicitPrefs=False,\n",
    "    alpha=1.0,\n",
    "    userCol=\"user\",\n",
    "    itemCol=\"item\",\n",
    "    seed=None,\n",
    "    ratingCol=\"rating\",\n",
    "    nonnegative=False,\n",
    "    checkpointInterval=10,\n",
    "    intermediateStorageLevel=\"MEMORY_AND_DISK\",\n",
    "    finalStorageLevel=\"MEMORY_AND_DISK\",\n",
    "    coldStartStrategy=\"nan\",\n",
    ")\n",
    "```"
   ]
  },
  {
   "cell_type": "code",
   "execution_count": 6,
   "metadata": {},
   "outputs": [
    {
     "name": "stderr",
     "output_type": "stream",
     "text": [
      "/usr/lib/python3/dist-packages/scipy/__init__.py:146: UserWarning: A NumPy version >=1.17.3 and <1.25.0 is required for this version of SciPy (detected version 1.26.3\n",
      "  warnings.warn(f\"A NumPy version >={np_minversion} and <{np_maxversion}\"\n"
     ]
    }
   ],
   "source": [
    "from pyspark.ml.recommendation import ALS\n",
    "from pyspark.ml.evaluation import RegressionEvaluator"
   ]
  },
  {
   "cell_type": "code",
   "execution_count": 7,
   "metadata": {},
   "outputs": [
    {
     "name": "stderr",
     "output_type": "stream",
     "text": [
      "\r",
      "[Stage 0:>                                                          (0 + 1) / 1]\r",
      "\r",
      "                                                                                \r"
     ]
    }
   ],
   "source": [
    "als = ALS(\n",
    "    userCol=\"userId\",\n",
    "    itemCol=\"movieId\",\n",
    "    ratingCol=\"rating\",\n",
    ")\n",
    "\n",
    "(training_data, validation_data) = ratings.randomSplit([8.0, 2.0])\n",
    "\n",
    "evaluator = RegressionEvaluator(\n",
    "    metricName=\"rmse\", labelCol=\"rating\", predictionCol=\"prediction\"\n",
    ")\n",
    "\n",
    "model = als.fit(training_data)\n",
    "predictions = model.transform(validation_data)"
   ]
  },
  {
   "cell_type": "code",
   "execution_count": 8,
   "metadata": {},
   "outputs": [
    {
     "name": "stdout",
     "output_type": "stream",
     "text": [
      "+------+-------+------+----------+\n",
      "|userId|movieId|rating|prediction|\n",
      "+------+-------+------+----------+\n",
      "|1     |1127   |4.0   |3.9200945 |\n",
      "|1     |804    |4.0   |3.5716279 |\n",
      "|1     |593    |4.0   |4.9135103 |\n",
      "|1     |500    |3.0   |3.9667256 |\n",
      "|1     |1032   |5.0   |4.1951494 |\n",
      "|1     |423    |3.0   |3.3850315 |\n",
      "|1     |1060   |4.0   |4.5238147 |\n",
      "|1     |648    |3.0   |4.303916  |\n",
      "|1     |216    |5.0   |4.297819  |\n",
      "|1     |480    |4.0   |4.521273  |\n",
      "+------+-------+------+----------+\n",
      "only showing top 10 rows\n",
      "\n"
     ]
    }
   ],
   "source": [
    "predictions.show(10, False)"
   ]
  },
  {
   "cell_type": "code",
   "execution_count": 9,
   "metadata": {},
   "outputs": [],
   "source": [
    "rmse = evaluator.evaluate(predictions.na.drop())"
   ]
  },
  {
   "cell_type": "code",
   "execution_count": 10,
   "metadata": {},
   "outputs": [
    {
     "name": "stdout",
     "output_type": "stream",
     "text": [
      "0.8810046017927589\n"
     ]
    }
   ],
   "source": [
    "print(rmse)"
   ]
  },
  {
   "cell_type": "code",
   "execution_count": 11,
   "metadata": {},
   "outputs": [],
   "source": [
    "from pyspark.ml.tuning import CrossValidator, ParamGridBuilder\n",
    "\n",
    "parameter_grid = (\n",
    "    ParamGridBuilder()\n",
    "    .addGrid(als.rank, [1, 5, 10])\n",
    "    .addGrid(als.maxIter, [20])\n",
    "    .addGrid(als.regParam, [0.05, 0.1])\n",
    "    .build()\n",
    ")"
   ]
  },
  {
   "cell_type": "code",
   "execution_count": 12,
   "metadata": {},
   "outputs": [
    {
     "data": {
      "text/plain": [
       "list"
      ]
     },
     "execution_count": 12,
     "metadata": {},
     "output_type": "execute_result"
    }
   ],
   "source": [
    "type(parameter_grid)"
   ]
  },
  {
   "cell_type": "code",
   "execution_count": 13,
   "metadata": {},
   "outputs": [
    {
     "name": "stdout",
     "output_type": "stream",
     "text": [
      "[{Param(parent='ALS_8cbdbaa32692', name='regParam', doc='regularization parameter (>= 0).'): 0.05,\n",
      "  Param(parent='ALS_8cbdbaa32692', name='rank', doc='rank of the factorization'): 1,\n",
      "  Param(parent='ALS_8cbdbaa32692', name='maxIter', doc='max number of iterations (>= 0).'): 20},\n",
      " {Param(parent='ALS_8cbdbaa32692', name='regParam', doc='regularization parameter (>= 0).'): 0.1,\n",
      "  Param(parent='ALS_8cbdbaa32692', name='rank', doc='rank of the factorization'): 1,\n",
      "  Param(parent='ALS_8cbdbaa32692', name='maxIter', doc='max number of iterations (>= 0).'): 20},\n",
      " {Param(parent='ALS_8cbdbaa32692', name='regParam', doc='regularization parameter (>= 0).'): 0.05,\n",
      "  Param(parent='ALS_8cbdbaa32692', name='rank', doc='rank of the factorization'): 5,\n",
      "  Param(parent='ALS_8cbdbaa32692', name='maxIter', doc='max number of iterations (>= 0).'): 20},\n",
      " {Param(parent='ALS_8cbdbaa32692', name='regParam', doc='regularization parameter (>= 0).'): 0.1,\n",
      "  Param(parent='ALS_8cbdbaa32692', name='rank', doc='rank of the factorization'): 5,\n",
      "  Param(parent='ALS_8cbdbaa32692', name='maxIter', doc='max number of iterations (>= 0).'): 20},\n",
      " {Param(parent='ALS_8cbdbaa32692', name='regParam', doc='regularization parameter (>= 0).'): 0.05,\n",
      "  Param(parent='ALS_8cbdbaa32692', name='rank', doc='rank of the factorization'): 10,\n",
      "  Param(parent='ALS_8cbdbaa32692', name='maxIter', doc='max number of iterations (>= 0).'): 20},\n",
      " {Param(parent='ALS_8cbdbaa32692', name='regParam', doc='regularization parameter (>= 0).'): 0.1,\n",
      "  Param(parent='ALS_8cbdbaa32692', name='rank', doc='rank of the factorization'): 10,\n",
      "  Param(parent='ALS_8cbdbaa32692', name='maxIter', doc='max number of iterations (>= 0).'): 20}]\n"
     ]
    }
   ],
   "source": [
    "from pprint import pprint\n",
    "\n",
    "pprint(parameter_grid)"
   ]
  },
  {
   "cell_type": "code",
   "execution_count": 14,
   "metadata": {},
   "outputs": [],
   "source": [
    "crossvalidator = CrossValidator(\n",
    "    estimator=als,\n",
    "    estimatorParamMaps=parameter_grid,\n",
    "    evaluator=evaluator,\n",
    "    numFolds=2,\n",
    ")\n",
    "\n",
    "crossval_model = crossvalidator.fit(training_data)\n",
    "predictions = crossval_model.transform(validation_data)\n"
   ]
  },
  {
   "cell_type": "code",
   "execution_count": 15,
   "metadata": {},
   "outputs": [
    {
     "name": "stdout",
     "output_type": "stream",
     "text": [
      "0.8802792436590022\n"
     ]
    }
   ],
   "source": [
    "rmse = evaluator.evaluate(predictions.na.drop())\n",
    "print(rmse)"
   ]
  },
  {
   "cell_type": "code",
   "execution_count": 16,
   "metadata": {},
   "outputs": [],
   "source": [
    "model = crossval_model.bestModel"
   ]
  },
  {
   "cell_type": "code",
   "execution_count": 17,
   "metadata": {},
   "outputs": [
    {
     "data": {
      "text/plain": [
       "ALSModel: uid=ALS_8cbdbaa32692, rank=1"
      ]
     },
     "execution_count": 17,
     "metadata": {},
     "output_type": "execute_result"
    }
   ],
   "source": [
    "model"
   ]
  },
  {
   "cell_type": "markdown",
   "metadata": {},
   "source": [
    "## References\n",
    "* Mastering Big Data Analytics with PySpark, By Danny Meijer, Publisher:Packt Publishing, June 2020"
   ]
  }
 ],
 "metadata": {
  "kernelspec": {
   "display_name": "Python 3 (ipykernel)",
   "language": "python",
   "name": "python3"
  },
  "language_info": {
   "codemirror_mode": {
    "name": "ipython",
    "version": 3
   },
   "file_extension": ".py",
   "mimetype": "text/x-python",
   "name": "python",
   "nbconvert_exporter": "python",
   "pygments_lexer": "ipython3",
   "version": "3.10.12"
  }
 },
 "nbformat": 4,
 "nbformat_minor": 2
}
