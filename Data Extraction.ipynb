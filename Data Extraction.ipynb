{
 "cells": [
  {
   "cell_type": "code",
   "execution_count": 1,
   "id": "5d67821b",
   "metadata": {},
   "outputs": [],
   "source": [
    "!pip install -q internetarchive\n"
   ]
  },
  {
   "cell_type": "code",
   "execution_count": 2,
   "id": "7ed7eb30",
   "metadata": {},
   "outputs": [],
   "source": [
    "import internetarchive\n",
    "import os\n",
    "import tarfile\n",
    "import csv\n",
    "from datetime import datetime\n",
    "from tqdm.notebook import tqdm\n",
    "import pandas as pd\n",
    "import configparser\n",
    "import json\n",
    "from zipfile import ZipFile\n",
    "\n",
    "import warnings\n",
    "\n",
    "# Suppressing the warnings\n",
    "warnings.filterwarnings('ignore') \n",
    "     "
   ]
  },
  {
   "cell_type": "code",
   "execution_count": 3,
   "id": "b1191c05",
   "metadata": {},
   "outputs": [],
   "source": [
    "path_d = r'C:\\Users\\35383\\Data Analytics - Jupyter\\AgoraVai\\downloads' \n",
    "\n",
    "\n",
    "if not os.path.exists(path_d):\n",
    "    os.makedirs(path_d)\n",
    "    print(\"{} created.\".format(path_d))"
   ]
  },
  {
   "cell_type": "code",
   "execution_count": 4,
   "id": "e7259994",
   "metadata": {},
   "outputs": [
    {
     "data": {
      "text/plain": [
       "['__ia_thumb.jpg',\n",
       " 'archiveteam-twitter-stream-2021-01_archive.torrent',\n",
       " 'archiveteam-twitter-stream-2021-01_files.xml',\n",
       " 'archiveteam-twitter-stream-2021-01_meta.sqlite',\n",
       " 'archiveteam-twitter-stream-2021-01_meta.xml',\n",
       " 'archiveteam-twitter-stream-2021-01_reviews.xml',\n",
       " 'twitter-stream-2021-01-01.zip',\n",
       " 'twitter-stream-2021-01-02.zip',\n",
       " 'twitter-stream-2021-01-03.zip',\n",
       " 'twitter-stream-2021-01-04.zip',\n",
       " 'twitter-stream-2021-01-05.zip',\n",
       " 'twitter-stream-2021-01-06.zip',\n",
       " 'twitter-stream-2021-01-25.zip',\n",
       " 'twitter-stream-2021-01-26.zip',\n",
       " 'twitter-stream-2021-01-27.zip',\n",
       " 'twitter-stream-2021-01-28.zip',\n",
       " 'twitter-stream-2021-01-29.zip',\n",
       " 'twitter-stream-2021-01-30.zip',\n",
       " 'twitter-stream-2021-01-31.zip',\n",
       " 'twitterlogo.png',\n",
       " 'twitterlogo_thumb.jpg']"
      ]
     },
     "execution_count": 4,
     "metadata": {},
     "output_type": "execute_result"
    }
   ],
   "source": [
    "i = 'archiveteam-twitter-stream-2021-01'\n",
    "\n",
    "file_names = [f.name for f in internetarchive.get_files(i, glob_pattern= '*')]\n",
    "file_names"
   ]
  },
  {
   "cell_type": "code",
   "execution_count": 5,
   "id": "f030c464",
   "metadata": {},
   "outputs": [],
   "source": [
    "def donwload(file, i = i, path_d = path_d):\n",
    "    \n",
    "    item =  internetarchive.get_item(i)\n",
    "    \n",
    "    #downloading\n",
    "    r = item.download(\n",
    "      destdir=path_d,  # The directory to download files to\n",
    "      ignore_existing=True,  # Skip files that already exist locally\n",
    "      checksum=True,  # Skip files based on checksum\n",
    "      verbose=True,  # Print progress to stdout\n",
    "      retries=100,  # The number of times to retry on failed requests\n",
    "      no_directory=True,  # Download withtout the identifier\n",
    "      files = file)\n",
    "    \n",
    "    path_file = path_d + f'/{file}'\n",
    "    \n",
    "    return path_file "
   ]
  },
  {
   "cell_type": "code",
   "execution_count": 6,
   "id": "8695a058",
   "metadata": {},
   "outputs": [],
   "source": [
    "keywords = ['civil service', 'civil service employment', 'civil service salary', 'civil service earnings',\n",
    "                  'defence', 'defence employment', 'defence salary', 'defence earnings',\n",
    "                  'educators', 'availability of educators', 'educators salary', 'educator earnings',\n",
    "                  'garda siochona', 'garda salary', 'garda earnings', 'garda of numbers',\n",
    "                  'health employment numbers', 'health salary', 'health earnings',\n",
    "                  'public service', 'public sector'] "
   ]
  },
  {
   "cell_type": "code",
   "execution_count": 24,
   "id": "1537bf0c",
   "metadata": {},
   "outputs": [
    {
     "name": "stderr",
     "output_type": "stream",
     "text": [
      "archiveteam-twitter-stream-2021-01:\n",
      " downloading twitter-stream-2021-01-06.zip: 100%|██████████████████████████████████| 970M/970M [09:42<00:00, 1.74MiB/s]\n"
     ]
    }
   ],
   "source": [
    "f = 'twitter-stream-2021-01-06.zip'\n",
    "\n",
    "archive = donwload(f)"
   ]
  },
  {
   "cell_type": "code",
   "execution_count": 15,
   "id": "cdcaae03",
   "metadata": {
    "scrolled": false
   },
   "outputs": [],
   "source": [
    "def get_tweets(archive):\n",
    "\n",
    "    with ZipFile(archive, 'r') as zip:\n",
    "\n",
    "        zip_file_names = list(filter(lambda t: t.endswith('.json.bz2'), zip.namelist()))\n",
    "        zip_file_names\n",
    "\n",
    "\n",
    "        for zfn in tqdm(zip_file_names, desc='Progress:'):\n",
    "\n",
    "            zip.extract(zfn,path=path_d+\"/json\")\n",
    "\n",
    "            js_path = path_d+\"/json/\"+zfn\n",
    "\n",
    "            js_path = js_path.replace(\"/\", \"\\\\\")\n",
    "            #print(js_path)\n",
    "\n",
    "            #reading json\n",
    "            df = pd.read_json(js_path, lines=True, compression='bz2')\n",
    "\n",
    "            df = df[df.lang == 'en']\n",
    "\n",
    "            bow = '|'.join(keywords) # bag of word\n",
    "            df = df[df['text'].str.contains(bow, case=False)]\n",
    "\n",
    "            if zfn == zip_file_names[0]:\n",
    "                tweets = df\n",
    "\n",
    "            else:\n",
    "                tweets = tweets.append(df)\n",
    "\n",
    "\n",
    "            os.remove(js_path)\n",
    "\n",
    "        pass\n",
    "    \n",
    "    return tweets"
   ]
  },
  {
   "cell_type": "code",
   "execution_count": 25,
   "id": "64fe5361",
   "metadata": {
    "scrolled": true
   },
   "outputs": [
    {
     "data": {
      "application/vnd.jupyter.widget-view+json": {
       "model_id": "6932e4b4cb3b44a2a30717655a5a1d13",
       "version_major": 2,
       "version_minor": 0
      },
      "text/plain": [
       "Progress::   0%|          | 0/546 [00:00<?, ?it/s]"
      ]
     },
     "metadata": {},
     "output_type": "display_data"
    }
   ],
   "source": [
    "df_6 = get_tweets(archive)"
   ]
  },
  {
   "cell_type": "code",
   "execution_count": 26,
   "id": "8766942a",
   "metadata": {},
   "outputs": [],
   "source": [
    "tweets = pd.read_csv(path_d+'/tweets.csv')\n",
    "tweets = tweets.append(df_6)\n",
    "tweets.to_csv(path_d+'/tweets.csv', index=False)"
   ]
  },
  {
   "cell_type": "code",
   "execution_count": 27,
   "id": "c9f141ca",
   "metadata": {
    "scrolled": false
   },
   "outputs": [
    {
     "name": "stdout",
     "output_type": "stream",
     "text": [
      "<class 'pandas.core.frame.DataFrame'>\n",
      "Int64Index: 3373 entries, 0 to 1000\n",
      "Data columns (total 39 columns):\n",
      " #   Column                     Non-Null Count  Dtype  \n",
      "---  ------                     --------------  -----  \n",
      " 0   created_at                 3373 non-null   object \n",
      " 1   id                         3373 non-null   float64\n",
      " 2   id_str                     3373 non-null   float64\n",
      " 3   text                       3373 non-null   object \n",
      " 4   source                     3373 non-null   object \n",
      " 5   truncated                  3373 non-null   float64\n",
      " 6   in_reply_to_status_id      982 non-null    float64\n",
      " 7   in_reply_to_status_id_str  982 non-null    float64\n",
      " 8   in_reply_to_user_id        1002 non-null   float64\n",
      " 9   in_reply_to_user_id_str    1002 non-null   float64\n",
      " 10  in_reply_to_screen_name    1002 non-null   object \n",
      " 11  user                       3373 non-null   object \n",
      " 12  geo                        2 non-null      object \n",
      " 13  coordinates                2 non-null      object \n",
      " 14  place                      23 non-null     object \n",
      " 15  contributors               0 non-null      float64\n",
      " 16  is_quote_status            3373 non-null   float64\n",
      " 17  quote_count                3373 non-null   float64\n",
      " 18  reply_count                3373 non-null   float64\n",
      " 19  retweet_count              3373 non-null   float64\n",
      " 20  favorite_count             3373 non-null   float64\n",
      " 21  entities                   3373 non-null   object \n",
      " 22  favorited                  3373 non-null   float64\n",
      " 23  retweeted                  3373 non-null   float64\n",
      " 24  filter_level               3373 non-null   object \n",
      " 25  lang                       3373 non-null   object \n",
      " 26  timestamp_ms               3373 non-null   object \n",
      " 27  display_text_range         1022 non-null   object \n",
      " 28  retweeted_status           1999 non-null   object \n",
      " 29  possibly_sensitive         514 non-null    float64\n",
      " 30  extended_entities          225 non-null    object \n",
      " 31  quoted_status_id           295 non-null    float64\n",
      " 32  quoted_status_id_str       295 non-null    float64\n",
      " 33  quoted_status              295 non-null    object \n",
      " 34  quoted_status_permalink    295 non-null    object \n",
      " 35  delete                     0 non-null      object \n",
      " 36  extended_tweet             465 non-null    object \n",
      " 37  withheld_in_countries      0 non-null      object \n",
      " 38  withheld_copyright         0 non-null      float64\n",
      "dtypes: float64(19), object(20)\n",
      "memory usage: 1.0+ MB\n"
     ]
    }
   ],
   "source": [
    "tweets.info()"
   ]
  },
  {
   "cell_type": "code",
   "execution_count": 17,
   "id": "b11d2625",
   "metadata": {},
   "outputs": [
    {
     "data": {
      "text/plain": [
       "created_at                      0\n",
       "id                              0\n",
       "id_str                          0\n",
       "text                            0\n",
       "source                          0\n",
       "truncated                       0\n",
       "in_reply_to_status_id        1395\n",
       "in_reply_to_status_id_str    1395\n",
       "in_reply_to_user_id          1385\n",
       "in_reply_to_user_id_str      1385\n",
       "in_reply_to_screen_name      1385\n",
       "user                            0\n",
       "geo                          1990\n",
       "coordinates                  1990\n",
       "place                        1976\n",
       "contributors                 1991\n",
       "is_quote_status                 0\n",
       "quote_count                     0\n",
       "reply_count                     0\n",
       "retweet_count                   0\n",
       "favorite_count                  0\n",
       "entities                        0\n",
       "favorited                       0\n",
       "retweeted                       0\n",
       "filter_level                    0\n",
       "lang                            0\n",
       "timestamp_ms                    0\n",
       "display_text_range           1388\n",
       "retweeted_status              810\n",
       "possibly_sensitive           1735\n",
       "extended_entities            1890\n",
       "quoted_status_id             1824\n",
       "quoted_status_id_str         1824\n",
       "quoted_status                1824\n",
       "quoted_status_permalink      1824\n",
       "delete                       1991\n",
       "extended_tweet               1728\n",
       "withheld_in_countries        1991\n",
       "withheld_copyright           1991\n",
       "dtype: int64"
      ]
     },
     "execution_count": 17,
     "metadata": {},
     "output_type": "execute_result"
    }
   ],
   "source": [
    "tweets.isnull().sum()"
   ]
  },
  {
   "cell_type": "code",
   "execution_count": null,
   "id": "f2fb1074",
   "metadata": {},
   "outputs": [],
   "source": []
  }
 ],
 "metadata": {
  "kernelspec": {
   "display_name": "Python 3 (ipykernel)",
   "language": "python",
   "name": "python3"
  },
  "language_info": {
   "codemirror_mode": {
    "name": "ipython",
    "version": 3
   },
   "file_extension": ".py",
   "mimetype": "text/x-python",
   "name": "python",
   "nbconvert_exporter": "python",
   "pygments_lexer": "ipython3",
   "version": "3.9.12"
  }
 },
 "nbformat": 4,
 "nbformat_minor": 5
}
